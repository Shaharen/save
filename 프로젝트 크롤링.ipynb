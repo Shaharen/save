{
 "cells": [
  {
   "cell_type": "code",
   "execution_count": 1,
   "id": "17e5a002",
   "metadata": {},
   "outputs": [
    {
     "name": "stdout",
     "output_type": "stream",
     "text": [
      "Requirement already satisfied: selenium in c:\\users\\smhrd\\anaconda3\\lib\\site-packages (4.1.0)\n",
      "Requirement already satisfied: trio~=0.17 in c:\\users\\smhrd\\anaconda3\\lib\\site-packages (from selenium) (0.19.0)\n",
      "Requirement already satisfied: trio-websocket~=0.9 in c:\\users\\smhrd\\anaconda3\\lib\\site-packages (from selenium) (0.9.2)\n",
      "Requirement already satisfied: urllib3[secure]~=1.26 in c:\\users\\smhrd\\anaconda3\\lib\\site-packages (from selenium) (1.26.7)\n",
      "Requirement already satisfied: attrs>=19.2.0 in c:\\users\\smhrd\\anaconda3\\lib\\site-packages (from trio~=0.17->selenium) (21.2.0)\n",
      "Requirement already satisfied: async-generator>=1.9 in c:\\users\\smhrd\\anaconda3\\lib\\site-packages (from trio~=0.17->selenium) (1.10)\n",
      "Requirement already satisfied: sniffio in c:\\users\\smhrd\\anaconda3\\lib\\site-packages (from trio~=0.17->selenium) (1.2.0)\n",
      "Requirement already satisfied: outcome in c:\\users\\smhrd\\anaconda3\\lib\\site-packages (from trio~=0.17->selenium) (1.1.0)\n",
      "Requirement already satisfied: idna in c:\\users\\smhrd\\anaconda3\\lib\\site-packages (from trio~=0.17->selenium) (3.2)\n",
      "Requirement already satisfied: cffi>=1.14 in c:\\users\\smhrd\\anaconda3\\lib\\site-packages (from trio~=0.17->selenium) (1.14.6)\n",
      "Requirement already satisfied: sortedcontainers in c:\\users\\smhrd\\anaconda3\\lib\\site-packages (from trio~=0.17->selenium) (2.4.0)\n",
      "Requirement already satisfied: pycparser in c:\\users\\smhrd\\anaconda3\\lib\\site-packages (from cffi>=1.14->trio~=0.17->selenium) (2.20)\n",
      "Requirement already satisfied: wsproto>=0.14 in c:\\users\\smhrd\\anaconda3\\lib\\site-packages (from trio-websocket~=0.9->selenium) (1.0.0)\n",
      "Requirement already satisfied: pyOpenSSL>=0.14 in c:\\users\\smhrd\\anaconda3\\lib\\site-packages (from urllib3[secure]~=1.26->selenium) (21.0.0)\n",
      "Requirement already satisfied: cryptography>=1.3.4 in c:\\users\\smhrd\\anaconda3\\lib\\site-packages (from urllib3[secure]~=1.26->selenium) (3.4.8)\n",
      "Requirement already satisfied: certifi in c:\\users\\smhrd\\anaconda3\\lib\\site-packages (from urllib3[secure]~=1.26->selenium) (2021.10.8)\n",
      "Requirement already satisfied: six>=1.5.2 in c:\\users\\smhrd\\anaconda3\\lib\\site-packages (from pyOpenSSL>=0.14->urllib3[secure]~=1.26->selenium) (1.16.0)\n",
      "Requirement already satisfied: h11<1,>=0.9.0 in c:\\users\\smhrd\\anaconda3\\lib\\site-packages (from wsproto>=0.14->trio-websocket~=0.9->selenium) (0.12.0)\n"
     ]
    }
   ],
   "source": [
    "!pip install selenium"
   ]
  },
  {
   "cell_type": "code",
   "execution_count": 2,
   "id": "c8208762",
   "metadata": {},
   "outputs": [],
   "source": [
    "from selenium import webdriver as wb\n",
    "from selenium.webdriver.common.keys import Keys"
   ]
  },
  {
   "cell_type": "code",
   "execution_count": 108,
   "id": "e4f81ecd",
   "metadata": {},
   "outputs": [],
   "source": [
    "driver = wb.Chrome()\n",
    "driver.get(\"http://www.kajawine.kr/shop/\")\n",
    "driver.maximize_window()"
   ]
  },
  {
   "cell_type": "code",
   "execution_count": null,
   "id": "956aaab6",
   "metadata": {},
   "outputs": [],
   "source": [
    "sct_txt>a"
   ]
  },
  {
   "cell_type": "markdown",
   "id": "5b66dc13",
   "metadata": {},
   "source": [
    "### 가나 주류 - 보드카"
   ]
  },
  {
   "cell_type": "code",
   "execution_count": 9,
   "id": "13d3e8ed",
   "metadata": {},
   "outputs": [
    {
     "name": "stderr",
     "output_type": "stream",
     "text": [
      "C:\\Users\\smhrd\\AppData\\Local\\Temp/ipykernel_13416/391368786.py:2: DeprecationWarning: find_element_by_* commands are deprecated. Please use find_element() instead\n",
      "  title = driver.find_element_by_class_name(\"goods_name\")\n"
     ]
    },
    {
     "data": {
      "text/plain": [
       "'아우터 스페이스 크롬 보드카 + 잔 2 개 세트 VAT별도 (OUTER SPACE VODKA CHROME)'"
      ]
     },
     "execution_count": 9,
     "metadata": {},
     "output_type": "execute_result"
    }
   ],
   "source": [
    "# 이름\n",
    "title = driver.find_element_by_class_name(\"goods_name\")\n",
    "title2 = title.text\n",
    "title2 = title2.replace(\"\\n\" , \" \")\n",
    "title2"
   ]
  },
  {
   "cell_type": "code",
   "execution_count": 10,
   "id": "c7805e83",
   "metadata": {},
   "outputs": [
    {
     "data": {
      "text/plain": [
       "selenium.webdriver.remote.webelement.WebElement"
      ]
     },
     "execution_count": 10,
     "metadata": {},
     "output_type": "execute_result"
    }
   ],
   "source": [
    "type(title)"
   ]
  },
  {
   "cell_type": "code",
   "execution_count": null,
   "id": "c9e7d7df",
   "metadata": {},
   "outputs": [],
   "source": [
    "td:nth-child(4)>span"
   ]
  },
  {
   "cell_type": "code",
   "execution_count": 109,
   "id": "bb7f9c2e",
   "metadata": {},
   "outputs": [
    {
     "name": "stderr",
     "output_type": "stream",
     "text": [
      "C:\\Users\\smhrd\\AppData\\Local\\Temp/ipykernel_10040/924810180.py:1: DeprecationWarning: find_element_by_* commands are deprecated. Please use find_element() instead\n",
      "  abv = driver.find_element_by_tag_name(\"tr:nth-child(2)>td>span\")\n"
     ]
    },
    {
     "data": {
      "text/plain": [
       "'40%'"
      ]
     },
     "execution_count": 109,
     "metadata": {},
     "output_type": "execute_result"
    }
   ],
   "source": [
    "# 도수\n",
    "abv = driver.find_element_by_tag_name(\"tr:nth-child(2)>td>span\")\n",
    "abv.text"
   ]
  },
  {
   "cell_type": "code",
   "execution_count": 11,
   "id": "423ea673",
   "metadata": {},
   "outputs": [],
   "source": [
    "from bs4 import BeautifulSoup as bs\n",
    "import time"
   ]
  },
  {
   "cell_type": "code",
   "execution_count": 14,
   "id": "e3e1c0e8",
   "metadata": {},
   "outputs": [],
   "source": [
    "soup = bs(driver.page_source, \"lxml\")"
   ]
  },
  {
   "cell_type": "code",
   "execution_count": 15,
   "id": "c42f9dc6",
   "metadata": {},
   "outputs": [
    {
     "data": {
      "text/plain": [
       "[<img alt=\"\" height=\"480\" src=\"http://www.kajawine.kr/data/item/1592641569/thumb-7JWE7Jqw7YSw7Iqk7Y6Y7J207Iqk_360x480.jpg\" title=\"\" width=\"360\"/>,\n",
       " <img alt=\"\" height=\"360\" src=\"http://www.kajawine.kr/data/item/1592641569/thumb-7JWE7Jqw7YSw7Iqk7Y6Y7J207Iqk_360x360.jpg\" width=\"360\"/>,\n",
       " <img alt=\"\" height=\"540\" src=\"http://www.kajawine.kr/data/item/1592641569/thumb-7JWE7Jqw7YSw7Iqk7Y6Y7J207Iqk7YGs66Gs_360x540.jpg\" width=\"360\"/>]"
      ]
     },
     "execution_count": 15,
     "metadata": {},
     "output_type": "execute_result"
    }
   ],
   "source": [
    "img = soup.select(\".goodsImg>a>img\")\n",
    "img"
   ]
  },
  {
   "cell_type": "code",
   "execution_count": 17,
   "id": "22b035ad",
   "metadata": {},
   "outputs": [
    {
     "data": {
      "text/plain": [
       "'http://www.kajawine.kr/data/item/1592641569/thumb-7JWE7Jqw7YSw7Iqk7Y6Y7J207Iqk_360x480.jpg'"
      ]
     },
     "execution_count": 17,
     "metadata": {},
     "output_type": "execute_result"
    }
   ],
   "source": [
    "#그림 경로\n",
    "img[0][\"src\"]"
   ]
  },
  {
   "cell_type": "code",
   "execution_count": 150,
   "id": "8a5132db",
   "metadata": {},
   "outputs": [
    {
     "name": "stderr",
     "output_type": "stream",
     "text": [
      "C:\\Users\\smhrd\\AppData\\Local\\Temp/ipykernel_10040/702664845.py:1: DeprecationWarning: find_elements_by_* commands are deprecated. Please use find_elements() instead\n",
      "  main = driver.find_elements_by_css_selector(\".listImg>a\")\n"
     ]
    },
    {
     "data": {
      "text/plain": [
       "''"
      ]
     },
     "execution_count": 150,
     "metadata": {},
     "output_type": "execute_result"
    }
   ],
   "source": [
    "main = driver.find_elements_by_css_selector(\".listImg>a\")\n",
    "main[0].text"
   ]
  },
  {
   "cell_type": "code",
   "execution_count": 19,
   "id": "26e6e462",
   "metadata": {
    "scrolled": true
   },
   "outputs": [
    {
     "name": "stderr",
     "output_type": "stream",
     "text": [
      "C:\\Users\\smhrd\\AppData\\Local\\Temp/ipykernel_13416/2204480501.py:1: DeprecationWarning: find_element_by_* commands are deprecated. Please use find_element() instead\n",
      "  img = driver.find_element_by_css_selector(\"ul > li:nth-child(1) > div.listImg > a > img\")\n"
     ]
    },
    {
     "data": {
      "text/plain": [
       "<selenium.webdriver.remote.webelement.WebElement (session=\"1abd973a55c8a569a7d61523e29e4100\", element=\"35344de3-9a07-42e2-a4c0-28e1bcd718b0\")>"
      ]
     },
     "execution_count": 19,
     "metadata": {},
     "output_type": "execute_result"
    }
   ],
   "source": [
    "img = driver.find_element_by_css_selector(\"ul > li:nth-child(1) > div.listImg > a > img\")\n",
    "img"
   ]
  },
  {
   "cell_type": "code",
   "execution_count": 179,
   "id": "8eaf66b3",
   "metadata": {},
   "outputs": [],
   "source": [
    "img.click()"
   ]
  },
  {
   "cell_type": "code",
   "execution_count": 181,
   "id": "a77d5361",
   "metadata": {},
   "outputs": [
    {
     "name": "stderr",
     "output_type": "stream",
     "text": [
      "C:\\Users\\smhrd\\AppData\\Local\\Temp/ipykernel_10040/3079753312.py:1: DeprecationWarning: find_element_by_* commands are deprecated. Please use find_element() instead\n",
      "  img = driver.find_element_by_css_selector(\"ul > li:nth-child(2) > div.listImg > a > img\")\n"
     ]
    },
    {
     "data": {
      "text/plain": [
       "<selenium.webdriver.remote.webelement.WebElement (session=\"2d34bed88df4269fe16b14541a03494a\", element=\"2c3fa800-398d-4cdf-a3fc-c3d0eeb38ffb\")>"
      ]
     },
     "execution_count": 181,
     "metadata": {},
     "output_type": "execute_result"
    }
   ],
   "source": [
    "img = driver.find_element_by_css_selector(\"ul > li:nth-child(2) > div.listImg > a > img\")\n",
    "img"
   ]
  },
  {
   "cell_type": "code",
   "execution_count": 182,
   "id": "f81543d5",
   "metadata": {},
   "outputs": [],
   "source": [
    "img.click()"
   ]
  },
  {
   "cell_type": "code",
   "execution_count": 20,
   "id": "b869534e",
   "metadata": {},
   "outputs": [
    {
     "name": "stderr",
     "output_type": "stream",
     "text": [
      "C:\\Users\\smhrd\\AppData\\Local\\Temp/ipykernel_13416/3226239672.py:3: DeprecationWarning: find_elements_by_* commands are deprecated. Please use find_elements() instead\n",
      "  img = driver.find_elements_by_css_selector(\"ul > li > div.listImg > a > img\")\n"
     ]
    }
   ],
   "source": [
    "# 메인 화면 사진클릭\n",
    "for i in range(3) :\n",
    "    img = driver.find_elements_by_css_selector(\"ul > li > div.listImg > a > img\")\n",
    "    img[i].click()\n",
    "    time.sleep(1)\n",
    "    driver.back()\n",
    "    time.sleep(1)"
   ]
  },
  {
   "cell_type": "code",
   "execution_count": 40,
   "id": "d5a1c9b4",
   "metadata": {},
   "outputs": [
    {
     "name": "stderr",
     "output_type": "stream",
     "text": [
      "C:\\Users\\smhrd\\AppData\\Local\\Temp/ipykernel_13416/3887714.py:7: DeprecationWarning: find_elements_by_* commands are deprecated. Please use find_elements() instead\n",
      "  img = driver.find_elements_by_css_selector(\"ul > li > div.listImg > a > img\")\n",
      "C:\\Users\\smhrd\\AppData\\Local\\Temp/ipykernel_13416/3887714.py:10: DeprecationWarning: find_element_by_* commands are deprecated. Please use find_element() instead\n",
      "  title = driver.find_element_by_class_name(\"goods_name\")\n",
      "C:\\Users\\smhrd\\AppData\\Local\\Temp/ipykernel_13416/3887714.py:14: DeprecationWarning: find_element_by_* commands are deprecated. Please use find_element() instead\n",
      "  abv = driver.find_element_by_tag_name(\"tr:nth-child(2)>td>span\")\n"
     ]
    },
    {
     "ename": "ElementClickInterceptedException",
     "evalue": "Message: element click intercepted: Element <img src=\"http://www.kajawine.kr/data/item/1065894937/thumb-1065894937_l1_160x214.jpg\" width=\"160\" height=\"214\" alt=\"스톨리치나야 갈라애플향\"> is not clickable at point (815, 763). Other element would receive the click: <img src=\"http://www.kajawine.kr/data/item/4019646772/thumb-4019646772_l1_70x70.jpg\" width=\"70\" height=\"70\" alt=\"벨루가 노블 보드카 700ml 세트(VAT 별도)\">\n  (Session info: chrome=98.0.4758.81)\nStacktrace:\nBacktrace:\n\tOrdinal0 [0x00797AC3+2587331]\n\tOrdinal0 [0x0072ADD1+2141649]\n\tOrdinal0 [0x00623BB8+1063864]\n\tOrdinal0 [0x006565FF+1271295]\n\tOrdinal0 [0x00654849+1263689]\n\tOrdinal0 [0x0065248B+1254539]\n\tOrdinal0 [0x00651289+1249929]\n\tOrdinal0 [0x00646DD3+1207763]\n\tOrdinal0 [0x0066868C+1345164]\n\tOrdinal0 [0x006467A4+1206180]\n\tOrdinal0 [0x006687E4+1345508]\n\tOrdinal0 [0x00678A0A+1411594]\n\tOrdinal0 [0x006684A6+1344678]\n\tOrdinal0 [0x006453F6+1201142]\n\tOrdinal0 [0x006462E6+1204966]\n\tGetHandleVerifier [0x0093DF22+1680738]\n\tGetHandleVerifier [0x009F0DBC+2413564]\n\tGetHandleVerifier [0x0082D151+563089]\n\tGetHandleVerifier [0x0082BF13+558419]\n\tOrdinal0 [0x0073081E+2164766]\n\tOrdinal0 [0x00735508+2184456]\n\tOrdinal0 [0x00735650+2184784]\n\tOrdinal0 [0x0073F5BC+2225596]\n\tBaseThreadInitThunk [0x7766FA29+25]\n\tRtlGetAppContainerNamedObjectPath [0x77E57A9E+286]\n\tRtlGetAppContainerNamedObjectPath [0x77E57A6E+238]\n",
     "output_type": "error",
     "traceback": [
      "\u001b[1;31m---------------------------------------------------------------------------\u001b[0m",
      "\u001b[1;31mElementClickInterceptedException\u001b[0m          Traceback (most recent call last)",
      "\u001b[1;32m~\\AppData\\Local\\Temp/ipykernel_13416/3887714.py\u001b[0m in \u001b[0;36m<module>\u001b[1;34m\u001b[0m\n\u001b[0;32m      6\u001b[0m \u001b[1;32mfor\u001b[0m \u001b[0mi\u001b[0m \u001b[1;32min\u001b[0m \u001b[0mrange\u001b[0m\u001b[1;33m(\u001b[0m\u001b[1;36m20\u001b[0m\u001b[1;33m)\u001b[0m \u001b[1;33m:\u001b[0m\u001b[1;33m\u001b[0m\u001b[1;33m\u001b[0m\u001b[0m\n\u001b[0;32m      7\u001b[0m     \u001b[0mimg\u001b[0m \u001b[1;33m=\u001b[0m \u001b[0mdriver\u001b[0m\u001b[1;33m.\u001b[0m\u001b[0mfind_elements_by_css_selector\u001b[0m\u001b[1;33m(\u001b[0m\u001b[1;34m\"ul > li > div.listImg > a > img\"\u001b[0m\u001b[1;33m)\u001b[0m\u001b[1;33m\u001b[0m\u001b[1;33m\u001b[0m\u001b[0m\n\u001b[1;32m----> 8\u001b[1;33m     \u001b[0mimg\u001b[0m\u001b[1;33m[\u001b[0m\u001b[0mi\u001b[0m\u001b[1;33m]\u001b[0m\u001b[1;33m.\u001b[0m\u001b[0mclick\u001b[0m\u001b[1;33m(\u001b[0m\u001b[1;33m)\u001b[0m\u001b[1;33m\u001b[0m\u001b[1;33m\u001b[0m\u001b[0m\n\u001b[0m\u001b[0;32m      9\u001b[0m     \u001b[0mtime\u001b[0m\u001b[1;33m.\u001b[0m\u001b[0msleep\u001b[0m\u001b[1;33m(\u001b[0m\u001b[1;36m1\u001b[0m\u001b[1;33m)\u001b[0m\u001b[1;33m\u001b[0m\u001b[1;33m\u001b[0m\u001b[0m\n\u001b[0;32m     10\u001b[0m     \u001b[0mtitle\u001b[0m \u001b[1;33m=\u001b[0m \u001b[0mdriver\u001b[0m\u001b[1;33m.\u001b[0m\u001b[0mfind_element_by_class_name\u001b[0m\u001b[1;33m(\u001b[0m\u001b[1;34m\"goods_name\"\u001b[0m\u001b[1;33m)\u001b[0m\u001b[1;33m\u001b[0m\u001b[1;33m\u001b[0m\u001b[0m\n",
      "\u001b[1;32m~\\anaconda3\\lib\\site-packages\\selenium\\webdriver\\remote\\webelement.py\u001b[0m in \u001b[0;36mclick\u001b[1;34m(self)\u001b[0m\n\u001b[0;32m     79\u001b[0m     \u001b[1;32mdef\u001b[0m \u001b[0mclick\u001b[0m\u001b[1;33m(\u001b[0m\u001b[0mself\u001b[0m\u001b[1;33m)\u001b[0m \u001b[1;33m->\u001b[0m \u001b[1;32mNone\u001b[0m\u001b[1;33m:\u001b[0m\u001b[1;33m\u001b[0m\u001b[1;33m\u001b[0m\u001b[0m\n\u001b[0;32m     80\u001b[0m         \u001b[1;34m\"\"\"Clicks the element.\"\"\"\u001b[0m\u001b[1;33m\u001b[0m\u001b[1;33m\u001b[0m\u001b[0m\n\u001b[1;32m---> 81\u001b[1;33m         \u001b[0mself\u001b[0m\u001b[1;33m.\u001b[0m\u001b[0m_execute\u001b[0m\u001b[1;33m(\u001b[0m\u001b[0mCommand\u001b[0m\u001b[1;33m.\u001b[0m\u001b[0mCLICK_ELEMENT\u001b[0m\u001b[1;33m)\u001b[0m\u001b[1;33m\u001b[0m\u001b[1;33m\u001b[0m\u001b[0m\n\u001b[0m\u001b[0;32m     82\u001b[0m \u001b[1;33m\u001b[0m\u001b[0m\n\u001b[0;32m     83\u001b[0m     \u001b[1;32mdef\u001b[0m \u001b[0msubmit\u001b[0m\u001b[1;33m(\u001b[0m\u001b[0mself\u001b[0m\u001b[1;33m)\u001b[0m\u001b[1;33m:\u001b[0m\u001b[1;33m\u001b[0m\u001b[1;33m\u001b[0m\u001b[0m\n",
      "\u001b[1;32m~\\anaconda3\\lib\\site-packages\\selenium\\webdriver\\remote\\webelement.py\u001b[0m in \u001b[0;36m_execute\u001b[1;34m(self, command, params)\u001b[0m\n\u001b[0;32m    708\u001b[0m             \u001b[0mparams\u001b[0m \u001b[1;33m=\u001b[0m \u001b[1;33m{\u001b[0m\u001b[1;33m}\u001b[0m\u001b[1;33m\u001b[0m\u001b[1;33m\u001b[0m\u001b[0m\n\u001b[0;32m    709\u001b[0m         \u001b[0mparams\u001b[0m\u001b[1;33m[\u001b[0m\u001b[1;34m'id'\u001b[0m\u001b[1;33m]\u001b[0m \u001b[1;33m=\u001b[0m \u001b[0mself\u001b[0m\u001b[1;33m.\u001b[0m\u001b[0m_id\u001b[0m\u001b[1;33m\u001b[0m\u001b[1;33m\u001b[0m\u001b[0m\n\u001b[1;32m--> 710\u001b[1;33m         \u001b[1;32mreturn\u001b[0m \u001b[0mself\u001b[0m\u001b[1;33m.\u001b[0m\u001b[0m_parent\u001b[0m\u001b[1;33m.\u001b[0m\u001b[0mexecute\u001b[0m\u001b[1;33m(\u001b[0m\u001b[0mcommand\u001b[0m\u001b[1;33m,\u001b[0m \u001b[0mparams\u001b[0m\u001b[1;33m)\u001b[0m\u001b[1;33m\u001b[0m\u001b[1;33m\u001b[0m\u001b[0m\n\u001b[0m\u001b[0;32m    711\u001b[0m \u001b[1;33m\u001b[0m\u001b[0m\n\u001b[0;32m    712\u001b[0m     \u001b[1;32mdef\u001b[0m \u001b[0mfind_element\u001b[0m\u001b[1;33m(\u001b[0m\u001b[0mself\u001b[0m\u001b[1;33m,\u001b[0m \u001b[0mby\u001b[0m\u001b[1;33m=\u001b[0m\u001b[0mBy\u001b[0m\u001b[1;33m.\u001b[0m\u001b[0mID\u001b[0m\u001b[1;33m,\u001b[0m \u001b[0mvalue\u001b[0m\u001b[1;33m=\u001b[0m\u001b[1;32mNone\u001b[0m\u001b[1;33m)\u001b[0m\u001b[1;33m:\u001b[0m\u001b[1;33m\u001b[0m\u001b[1;33m\u001b[0m\u001b[0m\n",
      "\u001b[1;32m~\\anaconda3\\lib\\site-packages\\selenium\\webdriver\\remote\\webdriver.py\u001b[0m in \u001b[0;36mexecute\u001b[1;34m(self, driver_command, params)\u001b[0m\n\u001b[0;32m    422\u001b[0m         \u001b[0mresponse\u001b[0m \u001b[1;33m=\u001b[0m \u001b[0mself\u001b[0m\u001b[1;33m.\u001b[0m\u001b[0mcommand_executor\u001b[0m\u001b[1;33m.\u001b[0m\u001b[0mexecute\u001b[0m\u001b[1;33m(\u001b[0m\u001b[0mdriver_command\u001b[0m\u001b[1;33m,\u001b[0m \u001b[0mparams\u001b[0m\u001b[1;33m)\u001b[0m\u001b[1;33m\u001b[0m\u001b[1;33m\u001b[0m\u001b[0m\n\u001b[0;32m    423\u001b[0m         \u001b[1;32mif\u001b[0m \u001b[0mresponse\u001b[0m\u001b[1;33m:\u001b[0m\u001b[1;33m\u001b[0m\u001b[1;33m\u001b[0m\u001b[0m\n\u001b[1;32m--> 424\u001b[1;33m             \u001b[0mself\u001b[0m\u001b[1;33m.\u001b[0m\u001b[0merror_handler\u001b[0m\u001b[1;33m.\u001b[0m\u001b[0mcheck_response\u001b[0m\u001b[1;33m(\u001b[0m\u001b[0mresponse\u001b[0m\u001b[1;33m)\u001b[0m\u001b[1;33m\u001b[0m\u001b[1;33m\u001b[0m\u001b[0m\n\u001b[0m\u001b[0;32m    425\u001b[0m             response['value'] = self._unwrap_value(\n\u001b[0;32m    426\u001b[0m                 response.get('value', None))\n",
      "\u001b[1;32m~\\anaconda3\\lib\\site-packages\\selenium\\webdriver\\remote\\errorhandler.py\u001b[0m in \u001b[0;36mcheck_response\u001b[1;34m(self, response)\u001b[0m\n\u001b[0;32m    245\u001b[0m                 \u001b[0malert_text\u001b[0m \u001b[1;33m=\u001b[0m \u001b[0mvalue\u001b[0m\u001b[1;33m[\u001b[0m\u001b[1;34m'alert'\u001b[0m\u001b[1;33m]\u001b[0m\u001b[1;33m.\u001b[0m\u001b[0mget\u001b[0m\u001b[1;33m(\u001b[0m\u001b[1;34m'text'\u001b[0m\u001b[1;33m)\u001b[0m\u001b[1;33m\u001b[0m\u001b[1;33m\u001b[0m\u001b[0m\n\u001b[0;32m    246\u001b[0m             \u001b[1;32mraise\u001b[0m \u001b[0mexception_class\u001b[0m\u001b[1;33m(\u001b[0m\u001b[0mmessage\u001b[0m\u001b[1;33m,\u001b[0m \u001b[0mscreen\u001b[0m\u001b[1;33m,\u001b[0m \u001b[0mstacktrace\u001b[0m\u001b[1;33m,\u001b[0m \u001b[0malert_text\u001b[0m\u001b[1;33m)\u001b[0m  \u001b[1;31m# type: ignore[call-arg]  # mypy is not smart enough here\u001b[0m\u001b[1;33m\u001b[0m\u001b[1;33m\u001b[0m\u001b[0m\n\u001b[1;32m--> 247\u001b[1;33m         \u001b[1;32mraise\u001b[0m \u001b[0mexception_class\u001b[0m\u001b[1;33m(\u001b[0m\u001b[0mmessage\u001b[0m\u001b[1;33m,\u001b[0m \u001b[0mscreen\u001b[0m\u001b[1;33m,\u001b[0m \u001b[0mstacktrace\u001b[0m\u001b[1;33m)\u001b[0m\u001b[1;33m\u001b[0m\u001b[1;33m\u001b[0m\u001b[0m\n\u001b[0m\u001b[0;32m    248\u001b[0m \u001b[1;33m\u001b[0m\u001b[0m\n\u001b[0;32m    249\u001b[0m     \u001b[1;32mdef\u001b[0m \u001b[0m_value_or_default\u001b[0m\u001b[1;33m(\u001b[0m\u001b[0mself\u001b[0m\u001b[1;33m,\u001b[0m \u001b[0mobj\u001b[0m\u001b[1;33m:\u001b[0m \u001b[0mMapping\u001b[0m\u001b[1;33m[\u001b[0m\u001b[0m_KT\u001b[0m\u001b[1;33m,\u001b[0m \u001b[0m_VT\u001b[0m\u001b[1;33m]\u001b[0m\u001b[1;33m,\u001b[0m \u001b[0mkey\u001b[0m\u001b[1;33m:\u001b[0m \u001b[0m_KT\u001b[0m\u001b[1;33m,\u001b[0m \u001b[0mdefault\u001b[0m\u001b[1;33m:\u001b[0m \u001b[0m_VT\u001b[0m\u001b[1;33m)\u001b[0m \u001b[1;33m->\u001b[0m \u001b[0m_VT\u001b[0m\u001b[1;33m:\u001b[0m\u001b[1;33m\u001b[0m\u001b[1;33m\u001b[0m\u001b[0m\n",
      "\u001b[1;31mElementClickInterceptedException\u001b[0m: Message: element click intercepted: Element <img src=\"http://www.kajawine.kr/data/item/1065894937/thumb-1065894937_l1_160x214.jpg\" width=\"160\" height=\"214\" alt=\"스톨리치나야 갈라애플향\"> is not clickable at point (815, 763). Other element would receive the click: <img src=\"http://www.kajawine.kr/data/item/4019646772/thumb-4019646772_l1_70x70.jpg\" width=\"70\" height=\"70\" alt=\"벨루가 노블 보드카 700ml 세트(VAT 별도)\">\n  (Session info: chrome=98.0.4758.81)\nStacktrace:\nBacktrace:\n\tOrdinal0 [0x00797AC3+2587331]\n\tOrdinal0 [0x0072ADD1+2141649]\n\tOrdinal0 [0x00623BB8+1063864]\n\tOrdinal0 [0x006565FF+1271295]\n\tOrdinal0 [0x00654849+1263689]\n\tOrdinal0 [0x0065248B+1254539]\n\tOrdinal0 [0x00651289+1249929]\n\tOrdinal0 [0x00646DD3+1207763]\n\tOrdinal0 [0x0066868C+1345164]\n\tOrdinal0 [0x006467A4+1206180]\n\tOrdinal0 [0x006687E4+1345508]\n\tOrdinal0 [0x00678A0A+1411594]\n\tOrdinal0 [0x006684A6+1344678]\n\tOrdinal0 [0x006453F6+1201142]\n\tOrdinal0 [0x006462E6+1204966]\n\tGetHandleVerifier [0x0093DF22+1680738]\n\tGetHandleVerifier [0x009F0DBC+2413564]\n\tGetHandleVerifier [0x0082D151+563089]\n\tGetHandleVerifier [0x0082BF13+558419]\n\tOrdinal0 [0x0073081E+2164766]\n\tOrdinal0 [0x00735508+2184456]\n\tOrdinal0 [0x00735650+2184784]\n\tOrdinal0 [0x0073F5BC+2225596]\n\tBaseThreadInitThunk [0x7766FA29+25]\n\tRtlGetAppContainerNamedObjectPath [0x77E57A9E+286]\n\tRtlGetAppContainerNamedObjectPath [0x77E57A6E+238]\n"
     ]
    }
   ],
   "source": [
    "# 페이지 1개\n",
    "df_title = []\n",
    "df_abv = []\n",
    "df_img = []\n",
    "\n",
    "for i in range(20) :\n",
    "    img = driver.find_elements_by_css_selector(\"ul > li > div.listImg > a > img\")\n",
    "    img[i].click()\n",
    "    time.sleep(1)\n",
    "    title = driver.find_element_by_class_name(\"goods_name\")\n",
    "    title2 = title.text\n",
    "    title2 = title2.replace(\"\\n\" , \" \")\n",
    "    df_title.append(title2)\n",
    "    abv = driver.find_element_by_tag_name(\"tr:nth-child(2)>td>span\")\n",
    "    df_abv.append(abv.text)\n",
    "    soup = bs(driver.page_source, \"lxml\")\n",
    "    img = soup.select(\".goodsImg>a>img\")\n",
    "    df_img.append(img[0][\"src\"])\n",
    "    driver.back()\n",
    "    time.sleep(2)"
   ]
  },
  {
   "cell_type": "code",
   "execution_count": 22,
   "id": "10b6b244",
   "metadata": {},
   "outputs": [],
   "source": [
    "import pandas as pd"
   ]
  },
  {
   "cell_type": "code",
   "execution_count": 41,
   "id": "8cb6a8e5",
   "metadata": {
    "scrolled": false
   },
   "outputs": [
    {
     "data": {
      "text/html": [
       "<div>\n",
       "<style scoped>\n",
       "    .dataframe tbody tr th:only-of-type {\n",
       "        vertical-align: middle;\n",
       "    }\n",
       "\n",
       "    .dataframe tbody tr th {\n",
       "        vertical-align: top;\n",
       "    }\n",
       "\n",
       "    .dataframe thead th {\n",
       "        text-align: right;\n",
       "    }\n",
       "</style>\n",
       "<table border=\"1\" class=\"dataframe\">\n",
       "  <thead>\n",
       "    <tr style=\"text-align: right;\">\n",
       "      <th></th>\n",
       "      <th>술이름</th>\n",
       "      <th>도수</th>\n",
       "      <th>이미지경로</th>\n",
       "    </tr>\n",
       "    <tr>\n",
       "      <th>번호</th>\n",
       "      <th></th>\n",
       "      <th></th>\n",
       "      <th></th>\n",
       "    </tr>\n",
       "  </thead>\n",
       "  <tbody>\n",
       "    <tr>\n",
       "      <th>1</th>\n",
       "      <td>콤보 보드카(캄보 보드카) (combo vodka)</td>\n",
       "      <td>40%</td>\n",
       "      <td>http://www.kajawine.kr/data/item/1348361005/th...</td>\n",
       "    </tr>\n",
       "    <tr>\n",
       "      <th>2</th>\n",
       "      <td>앱솔루트 베리아사이 700ml(VAT 별도) (absolut berri acai v...</td>\n",
       "      <td>40%</td>\n",
       "      <td>http://www.kajawine.kr/data/item/1345800203/th...</td>\n",
       "    </tr>\n",
       "    <tr>\n",
       "      <th>3</th>\n",
       "      <td>스미노프 그린애플(VAT 별도) (Smirnoff Green Apple)</td>\n",
       "      <td>37.5%</td>\n",
       "      <td>http://www.kajawine.kr/data/item/1337946253/th...</td>\n",
       "    </tr>\n",
       "    <tr>\n",
       "      <th>4</th>\n",
       "      <td>모나크 보드카 (Monarch Vodka)</td>\n",
       "      <td>40%</td>\n",
       "      <td>http://www.kajawine.kr/data/item/1333527953/th...</td>\n",
       "    </tr>\n",
       "    <tr>\n",
       "      <th>5</th>\n",
       "      <td>앱솔루트 바닐라(VAT 별도) ()</td>\n",
       "      <td>24% DC</td>\n",
       "      <td>http://www.kajawine.kr/data/item/1294050704/th...</td>\n",
       "    </tr>\n",
       "    <tr>\n",
       "      <th>6</th>\n",
       "      <td>앱솔루트 만다린(오렌지향) ()</td>\n",
       "      <td>24% DC</td>\n",
       "      <td>http://www.kajawine.kr/data/item/1294049685/th...</td>\n",
       "    </tr>\n",
       "    <tr>\n",
       "      <th>7</th>\n",
       "      <td>스미노프 레드(VAT 별도) (Smirnoff Red Vodka)</td>\n",
       "      <td>37.5%</td>\n",
       "      <td>http://www.kajawine.kr/data/item/1070683005/th...</td>\n",
       "    </tr>\n",
       "    <tr>\n",
       "      <th>8</th>\n",
       "      <td>스톨리치나야 오렌지향 (Stolichnaya Ohranj)</td>\n",
       "      <td>37.5%</td>\n",
       "      <td>http://www.kajawine.kr/data/item/1065990484/th...</td>\n",
       "    </tr>\n",
       "  </tbody>\n",
       "</table>\n",
       "</div>"
      ],
      "text/plain": [
       "                                                  술이름      도수  \\\n",
       "번호                                                              \n",
       "1                        콤보 보드카(캄보 보드카) (combo vodka)     40%   \n",
       "2   앱솔루트 베리아사이 700ml(VAT 별도) (absolut berri acai v...     40%   \n",
       "3            스미노프 그린애플(VAT 별도) (Smirnoff Green Apple)   37.5%   \n",
       "4                             모나크 보드카 (Monarch Vodka)     40%   \n",
       "5                                 앱솔루트 바닐라(VAT 별도) ()  24% DC   \n",
       "6                                   앱솔루트 만다린(오렌지향) ()  24% DC   \n",
       "7                스미노프 레드(VAT 별도) (Smirnoff Red Vodka)   37.5%   \n",
       "8                    스톨리치나야 오렌지향 (Stolichnaya Ohranj)   37.5%   \n",
       "\n",
       "                                                이미지경로  \n",
       "번호                                                     \n",
       "1   http://www.kajawine.kr/data/item/1348361005/th...  \n",
       "2   http://www.kajawine.kr/data/item/1345800203/th...  \n",
       "3   http://www.kajawine.kr/data/item/1337946253/th...  \n",
       "4   http://www.kajawine.kr/data/item/1333527953/th...  \n",
       "5   http://www.kajawine.kr/data/item/1294050704/th...  \n",
       "6   http://www.kajawine.kr/data/item/1294049685/th...  \n",
       "7   http://www.kajawine.kr/data/item/1070683005/th...  \n",
       "8   http://www.kajawine.kr/data/item/1065990484/th...  "
      ]
     },
     "execution_count": 41,
     "metadata": {},
     "output_type": "execute_result"
    }
   ],
   "source": [
    "# 데이터프레임\n",
    "df_number = []\n",
    "for i in range(len(df_title)) :\n",
    "    df_number.append(i+1)\n",
    "vod = {'술이름':df_title , '도수':df_abv , '이미지경로': df_img, '번호' : df_number}\n",
    "df = pd.DataFrame(vod)\n",
    "df.set_index('번호' , inplace = True)\n",
    "df"
   ]
  },
  {
   "cell_type": "code",
   "execution_count": null,
   "id": "757d4160",
   "metadata": {},
   "outputs": [],
   "source": [
    "4 13 19"
   ]
  },
  {
   "cell_type": "code",
   "execution_count": 38,
   "id": "57cb583a",
   "metadata": {},
   "outputs": [
    {
     "name": "stderr",
     "output_type": "stream",
     "text": [
      "C:\\Users\\smhrd\\AppData\\Local\\Temp/ipykernel_13416/1731225325.py:9: DeprecationWarning: find_elements_by_* commands are deprecated. Please use find_elements() instead\n",
      "  img = driver.find_elements_by_css_selector(\"ul > li > div.listImg > a > img\")\n",
      "C:\\Users\\smhrd\\AppData\\Local\\Temp/ipykernel_13416/1731225325.py:12: DeprecationWarning: find_element_by_* commands are deprecated. Please use find_element() instead\n",
      "  title = driver.find_element_by_class_name(\"goods_name\")\n",
      "C:\\Users\\smhrd\\AppData\\Local\\Temp/ipykernel_13416/1731225325.py:16: DeprecationWarning: find_element_by_* commands are deprecated. Please use find_element() instead\n",
      "  abv = driver.find_element_by_tag_name(\"tr:nth-child(2)>td>span\")\n"
     ]
    }
   ],
   "source": [
    "# 전체페이지\n",
    "df_title = [] # 이름\n",
    "df_abv = [] # 도수\n",
    "df_img = [] # 이미지 경로\n",
    "driver = wb.Chrome()\n",
    "\n",
    "for j in range(1,3) :\n",
    "    driver.get(\"http://www.kajawine.kr/shop/list.php?ca_id=6040&sort=&sortodr=&type_color=&it_price=&it_opt4=&it_opt9=&page=\"+str(j))\n",
    "    time.sleep(1)\n",
    "    for i in range(20) :\n",
    "        img = driver.find_elements_by_css_selector(\"ul > li > div.listImg > a > img\")\n",
    "        img[i].click()\n",
    "        time.sleep(1)\n",
    "        title = driver.find_element_by_class_name(\"goods_name\")\n",
    "        title2 = title.text\n",
    "        title2 = title2.replace(\"\\n\" , \" \")\n",
    "        df_title.append(title2)\n",
    "        abv = driver.find_element_by_tag_name(\"tr:nth-child(2)>td>span\")\n",
    "        df_abv.append(abv.text)\n",
    "        soup = bs(driver.page_source, \"lxml\")\n",
    "        img = soup.select(\".goodsImg>a>img\")\n",
    "        df_img.append(img[0][\"src\"])\n",
    "        driver.back()\n",
    "        time.sleep(2)"
   ]
  },
  {
   "cell_type": "code",
   "execution_count": 221,
   "id": "b94ffa3c",
   "metadata": {},
   "outputs": [],
   "source": [
    "driver = wb.Chrome()\n",
    "for j in range(1,3) :\n",
    "    driver.get(\"http://www.kajawine.kr/shop/list.php?ca_id=6040&sort=&sortodr=&type_color=&it_price=&it_opt4=&it_opt9=&page=\"+str(j))"
   ]
  },
  {
   "cell_type": "code",
   "execution_count": 50,
   "id": "77cc46fc",
   "metadata": {},
   "outputs": [
    {
     "data": {
      "text/html": [
       "<div>\n",
       "<style scoped>\n",
       "    .dataframe tbody tr th:only-of-type {\n",
       "        vertical-align: middle;\n",
       "    }\n",
       "\n",
       "    .dataframe tbody tr th {\n",
       "        vertical-align: top;\n",
       "    }\n",
       "\n",
       "    .dataframe thead th {\n",
       "        text-align: right;\n",
       "    }\n",
       "</style>\n",
       "<table border=\"1\" class=\"dataframe\">\n",
       "  <thead>\n",
       "    <tr style=\"text-align: right;\">\n",
       "      <th></th>\n",
       "      <th>술이름</th>\n",
       "      <th>도수</th>\n",
       "      <th>이미지경로</th>\n",
       "    </tr>\n",
       "    <tr>\n",
       "      <th>번호</th>\n",
       "      <th></th>\n",
       "      <th></th>\n",
       "      <th></th>\n",
       "    </tr>\n",
       "  </thead>\n",
       "  <tbody>\n",
       "    <tr>\n",
       "      <th>1</th>\n",
       "      <td>앱솔루트 애플 700ml(VAT 별도) (Absolut Apple vodka)</td>\n",
       "      <td>40%</td>\n",
       "      <td>http://www.kajawine.kr/data/item/9943735305/th...</td>\n",
       "    </tr>\n",
       "    <tr>\n",
       "      <th>2</th>\n",
       "      <td>포에버 보드카 (VAT별도) (Forever Vodka)</td>\n",
       "      <td>40%</td>\n",
       "      <td>http://www.kajawine.kr/data/item/7384125109/th...</td>\n",
       "    </tr>\n",
       "    <tr>\n",
       "      <th>3</th>\n",
       "      <td>앱솔루트 750ml(VAT 별도) (Absolut Vodka)</td>\n",
       "      <td>27% DC</td>\n",
       "      <td>http://www.kajawine.kr/data/item/6429957369/th...</td>\n",
       "    </tr>\n",
       "    <tr>\n",
       "      <th>4</th>\n",
       "      <td>앱솔루트 라즈베리 (ABSOLUT Raspberry)</td>\n",
       "      <td>40%</td>\n",
       "      <td>http://www.kajawine.kr/data/item/2076638129/th...</td>\n",
       "    </tr>\n",
       "    <tr>\n",
       "      <th>5</th>\n",
       "      <td>소비에스키 에스테이트 보드카 (Sobieski estate vodka)</td>\n",
       "      <td>40%</td>\n",
       "      <td>http://www.kajawine.kr/data/item/1774768125/th...</td>\n",
       "    </tr>\n",
       "    <tr>\n",
       "      <th>...</th>\n",
       "      <td>...</td>\n",
       "      <td>...</td>\n",
       "      <td>...</td>\n",
       "    </tr>\n",
       "    <tr>\n",
       "      <th>65</th>\n",
       "      <td>앱솔루트 바닐라(VAT 별도) ()</td>\n",
       "      <td>24% DC</td>\n",
       "      <td>http://www.kajawine.kr/data/item/1294050704/th...</td>\n",
       "    </tr>\n",
       "    <tr>\n",
       "      <th>66</th>\n",
       "      <td>앱솔루트 만다린(오렌지향) ()</td>\n",
       "      <td>24% DC</td>\n",
       "      <td>http://www.kajawine.kr/data/item/1294049685/th...</td>\n",
       "    </tr>\n",
       "    <tr>\n",
       "      <th>67</th>\n",
       "      <td>스미노프 레드(VAT 별도) (Smirnoff Red Vodka)</td>\n",
       "      <td>37.5%</td>\n",
       "      <td>http://www.kajawine.kr/data/item/1070683005/th...</td>\n",
       "    </tr>\n",
       "    <tr>\n",
       "      <th>68</th>\n",
       "      <td>스톨리치나야 오렌지향 (Stolichnaya Ohranj)</td>\n",
       "      <td>37.5%</td>\n",
       "      <td>http://www.kajawine.kr/data/item/1065990484/th...</td>\n",
       "    </tr>\n",
       "    <tr>\n",
       "      <th>69</th>\n",
       "      <td>스톨리치나야 갈라애플향 (Stolichnaya Gala Applik)</td>\n",
       "      <td>37.5%</td>\n",
       "      <td>http://www.kajawine.kr/data/item/1065894937/th...</td>\n",
       "    </tr>\n",
       "  </tbody>\n",
       "</table>\n",
       "<p>69 rows × 3 columns</p>\n",
       "</div>"
      ],
      "text/plain": [
       "                                            술이름      도수  \\\n",
       "번호                                                        \n",
       "1   앱솔루트 애플 700ml(VAT 별도) (Absolut Apple vodka)     40%   \n",
       "2               포에버 보드카 (VAT별도) (Forever Vodka)     40%   \n",
       "3            앱솔루트 750ml(VAT 별도) (Absolut Vodka)  27% DC   \n",
       "4                 앱솔루트 라즈베리 (ABSOLUT Raspberry)     40%   \n",
       "5       소비에스키 에스테이트 보드카 (Sobieski estate vodka)     40%   \n",
       "..                                          ...     ...   \n",
       "65                          앱솔루트 바닐라(VAT 별도) ()  24% DC   \n",
       "66                            앱솔루트 만다린(오렌지향) ()  24% DC   \n",
       "67         스미노프 레드(VAT 별도) (Smirnoff Red Vodka)   37.5%   \n",
       "68             스톨리치나야 오렌지향 (Stolichnaya Ohranj)   37.5%   \n",
       "69       스톨리치나야 갈라애플향 (Stolichnaya Gala Applik)   37.5%   \n",
       "\n",
       "                                                이미지경로  \n",
       "번호                                                     \n",
       "1   http://www.kajawine.kr/data/item/9943735305/th...  \n",
       "2   http://www.kajawine.kr/data/item/7384125109/th...  \n",
       "3   http://www.kajawine.kr/data/item/6429957369/th...  \n",
       "4   http://www.kajawine.kr/data/item/2076638129/th...  \n",
       "5   http://www.kajawine.kr/data/item/1774768125/th...  \n",
       "..                                                ...  \n",
       "65  http://www.kajawine.kr/data/item/1294050704/th...  \n",
       "66  http://www.kajawine.kr/data/item/1294049685/th...  \n",
       "67  http://www.kajawine.kr/data/item/1070683005/th...  \n",
       "68  http://www.kajawine.kr/data/item/1065990484/th...  \n",
       "69  http://www.kajawine.kr/data/item/1065894937/th...  \n",
       "\n",
       "[69 rows x 3 columns]"
      ]
     },
     "execution_count": 50,
     "metadata": {},
     "output_type": "execute_result"
    }
   ],
   "source": [
    "df_number = []\n",
    "for i in range(len(df_title)) :\n",
    "    df_number.append(i+1)\n",
    "vod = {'술이름':df_title , '도수':df_abv , '이미지경로': df_img, '번호' : df_number}\n",
    "df = pd.DataFrame(vod)\n",
    "df.set_index('번호' , inplace = True)\n",
    "df"
   ]
  },
  {
   "cell_type": "code",
   "execution_count": 42,
   "id": "db59c228",
   "metadata": {},
   "outputs": [
    {
     "name": "stderr",
     "output_type": "stream",
     "text": [
      "C:\\Users\\smhrd\\AppData\\Local\\Temp/ipykernel_13416/410670986.py:8: DeprecationWarning: find_elements_by_* commands are deprecated. Please use find_elements() instead\n",
      "  img = driver.find_elements_by_css_selector(\"ul > li > div.listImg > a > img\")\n",
      "C:\\Users\\smhrd\\AppData\\Local\\Temp/ipykernel_13416/410670986.py:11: DeprecationWarning: find_element_by_* commands are deprecated. Please use find_element() instead\n",
      "  title = driver.find_element_by_class_name(\"goods_name\")\n",
      "C:\\Users\\smhrd\\AppData\\Local\\Temp/ipykernel_13416/410670986.py:15: DeprecationWarning: find_element_by_* commands are deprecated. Please use find_element() instead\n",
      "  abv = driver.find_element_by_tag_name(\"tr:nth-child(2)>td>span\")\n"
     ]
    },
    {
     "name": "stdout",
     "output_type": "stream",
     "text": [
      "크롤링 끝\n"
     ]
    }
   ],
   "source": [
    "# 페이지 1개 try 버전\n",
    "df_title = []\n",
    "df_abv = []\n",
    "df_img = []\n",
    "\n",
    "try :\n",
    "    for i in range(21) :\n",
    "        img = driver.find_elements_by_css_selector(\"ul > li > div.listImg > a > img\")\n",
    "        img[i].click()\n",
    "        time.sleep(1)\n",
    "        title = driver.find_element_by_class_name(\"goods_name\")\n",
    "        title2 = title.text\n",
    "        title2 = title2.replace(\"\\n\" , \" \")\n",
    "        df_title.append(title2)\n",
    "        abv = driver.find_element_by_tag_name(\"tr:nth-child(2)>td>span\")\n",
    "        df_abv.append(abv.text)\n",
    "        soup = bs(driver.page_source, \"lxml\")\n",
    "        img = soup.select(\".goodsImg>a>img\")\n",
    "        df_img.append(img[0][\"src\"])\n",
    "        driver.back()\n",
    "        time.sleep(2)\n",
    "except :\n",
    "    print(\"크롤링 끝\")"
   ]
  },
  {
   "cell_type": "code",
   "execution_count": 49,
   "id": "061972f9",
   "metadata": {},
   "outputs": [
    {
     "name": "stderr",
     "output_type": "stream",
     "text": [
      "C:\\Users\\smhrd\\AppData\\Local\\Temp/ipykernel_13416/1173874336.py:12: DeprecationWarning: find_elements_by_* commands are deprecated. Please use find_elements() instead\n",
      "  img = driver.find_elements_by_css_selector(\"ul > li > div.listImg > a > img\")\n",
      "C:\\Users\\smhrd\\AppData\\Local\\Temp/ipykernel_13416/1173874336.py:15: DeprecationWarning: find_element_by_* commands are deprecated. Please use find_element() instead\n",
      "  title = driver.find_element_by_class_name(\"goods_name\")\n",
      "C:\\Users\\smhrd\\AppData\\Local\\Temp/ipykernel_13416/1173874336.py:20: DeprecationWarning: find_element_by_* commands are deprecated. Please use find_element() instead\n",
      "  abv = driver.find_element_by_tag_name(\"tr:nth-child(2)>td>span\")\n"
     ]
    },
    {
     "name": "stdout",
     "output_type": "stream",
     "text": [
      "크롤링 끝\n"
     ]
    }
   ],
   "source": [
    "# 전체페이지\n",
    "df_title = []\n",
    "df_abv = []\n",
    "df_img = []\n",
    "driver = wb.Chrome()\n",
    "\n",
    "try :\n",
    "    for j in range(5,9) :\n",
    "        driver.get(\"http://www.kajawine.kr/shop/list.php?ca_id=6040&sort=&sortodr=&type_color=&it_price=&it_opt4=&it_opt9=&page=\"+str(j))\n",
    "        time.sleep(1)\n",
    "        for i in range(20) :\n",
    "            img = driver.find_elements_by_css_selector(\"ul > li > div.listImg > a > img\")\n",
    "            img[i].click()\n",
    "            time.sleep(1)\n",
    "            title = driver.find_element_by_class_name(\"goods_name\")\n",
    "            title2 = title.text\n",
    "            title2 = title2.replace(\"\\n\" , \" \")\n",
    "            df_title.append(title2)\n",
    "            try :\n",
    "                abv = driver.find_element_by_tag_name(\"tr:nth-child(2)>td>span\")\n",
    "                df_abv.append(abv.text)\n",
    "            except :\n",
    "                df_abv.append(\"none\")\n",
    "            soup = bs(driver.page_source, \"lxml\")\n",
    "            img = soup.select(\".goodsImg>a>img\")\n",
    "            df_img.append(img[0][\"src\"])\n",
    "            driver.back()\n",
    "            time.sleep(2)\n",
    "except :\n",
    "    print(\"크롤링 끝\")"
   ]
  },
  {
   "cell_type": "code",
   "execution_count": 67,
   "id": "99fc3514",
   "metadata": {},
   "outputs": [
    {
     "name": "stderr",
     "output_type": "stream",
     "text": [
      "C:\\Users\\smhrd\\AppData\\Local\\Temp/ipykernel_13416/4231451200.py:5: DeprecationWarning: find_element_by_* commands are deprecated. Please use find_element() instead\n",
      "  explain = driver.find_element_by_css_selector(\"#goods_extit_cont02 > p\")\n"
     ]
    }
   ],
   "source": [
    "# 테이스팅 노트 추가\n",
    "df_explain = []\n",
    "\n",
    "try : \n",
    "    explain = driver.find_element_by_css_selector(\"#goods_extit_cont02 > p\")\n",
    "    df_explain.append(explain.text)\n",
    "except : \n",
    "    df_explain.append(\"none\")"
   ]
  },
  {
   "cell_type": "code",
   "execution_count": 62,
   "id": "70d7c583",
   "metadata": {},
   "outputs": [
    {
     "data": {
      "text/plain": [
       "['부르고뉴 와인병처럼 잘 빠진 모양에서 짐작되듯 술이 매끄럽게 혀위를 구른다. 또한 샴페인 병처럼 우아하게 생긴 모양에서 짐작되듯 여자들의 입맛에도 깔끔하게 어울린다. 달콤한 향이 바람처럼 지나간다.']"
      ]
     },
     "execution_count": 62,
     "metadata": {},
     "output_type": "execute_result"
    }
   ],
   "source": [
    "df"
   ]
  },
  {
   "cell_type": "code",
   "execution_count": 110,
   "id": "24a8ca9f",
   "metadata": {},
   "outputs": [
    {
     "name": "stderr",
     "output_type": "stream",
     "text": [
      "C:\\Users\\smhrd\\AppData\\Local\\Temp/ipykernel_13416/1693093632.py:15: DeprecationWarning: find_elements_by_* commands are deprecated. Please use find_elements() instead\n",
      "  img = driver.find_elements_by_css_selector(\"ul > li > div.listImg > a > img\")\n",
      "C:\\Users\\smhrd\\AppData\\Local\\Temp/ipykernel_13416/1693093632.py:19: DeprecationWarning: find_element_by_* commands are deprecated. Please use find_element() instead\n",
      "  title = driver.find_element_by_class_name(\"goods_name\")\n",
      "C:\\Users\\smhrd\\AppData\\Local\\Temp/ipykernel_13416/1693093632.py:25: DeprecationWarning: find_element_by_* commands are deprecated. Please use find_element() instead\n",
      "  abv = driver.find_element_by_tag_name(\"tr:nth-child(2)>td>span\")\n",
      "C:\\Users\\smhrd\\AppData\\Local\\Temp/ipykernel_13416/1693093632.py:30: DeprecationWarning: find_element_by_* commands are deprecated. Please use find_element() instead\n",
      "  btn = driver.find_element_by_css_selector(\"#sit > div.goods_extit_menu > ul > li:nth-child(2)\")\n",
      "C:\\Users\\smhrd\\AppData\\Local\\Temp/ipykernel_13416/1693093632.py:33: DeprecationWarning: find_element_by_* commands are deprecated. Please use find_element() instead\n",
      "  explain = driver.find_element_by_css_selector(\"#goods_extit_cont02 > p\")\n"
     ]
    },
    {
     "name": "stdout",
     "output_type": "stream",
     "text": [
      "크롤링 끝\n"
     ]
    }
   ],
   "source": [
    "#종합\n",
    "df_title = []\n",
    "df_abv = []\n",
    "df_img = []\n",
    "df_explain = []\n",
    "driver = wb.Chrome()\n",
    "driver.maximize_window()\n",
    "\n",
    "try :\n",
    "    for j in range(1,9) :\n",
    "        driver.get(\"http://www.kajawine.kr/shop/list.php?ca_id=6040&sort=&sortodr=&type_color=&it_price=&it_opt4=&it_opt9=&page=\"+str(j))\n",
    "        time.sleep(1)\n",
    "        for i in range(20) :\n",
    "            # 이미지 클릭\n",
    "            img = driver.find_elements_by_css_selector(\"ul > li > div.listImg > a > img\")\n",
    "            img[i].click()\n",
    "            time.sleep(1)\n",
    "            # 이름 수집\n",
    "            title = driver.find_element_by_class_name(\"goods_name\")\n",
    "            title2 = title.text\n",
    "            title2 = title2.replace(\"\\n\" , \" \")\n",
    "            df_title.append(title2)\n",
    "            # 도수 수집\n",
    "            try :\n",
    "                abv = driver.find_element_by_tag_name(\"tr:nth-child(2)>td>span\")\n",
    "                df_abv.append(abv.text)\n",
    "            except :\n",
    "                df_abv.append(\"none\")\n",
    "            # 설명 수집\n",
    "            btn = driver.find_element_by_css_selector(\"#sit > div.goods_extit_menu > ul > li:nth-child(2)\")\n",
    "            btn.click()\n",
    "            time.sleep(1)\n",
    "            explain = driver.find_element_by_css_selector(\"#goods_extit_cont02 > p\")\n",
    "            df_explain.append(explain.text)\n",
    "            soup = bs(driver.page_source, \"lxml\")\n",
    "            img = soup.select(\".goodsImg>a>img\")\n",
    "            df_img.append(img[0][\"src\"])\n",
    "            driver.back()\n",
    "            time.sleep(2)\n",
    "except :\n",
    "    print(\"크롤링 끝\")"
   ]
  },
  {
   "cell_type": "code",
   "execution_count": 100,
   "id": "9b652944",
   "metadata": {},
   "outputs": [
    {
     "name": "stderr",
     "output_type": "stream",
     "text": [
      "C:\\Users\\smhrd\\AppData\\Local\\Temp/ipykernel_13416/2885068904.py:1: DeprecationWarning: find_element_by_* commands are deprecated. Please use find_element() instead\n",
      "  btn = driver.find_element_by_css_selector(\"#sit > div.goods_extit_menu > ul > li:nth-child(2)\")\n"
     ]
    }
   ],
   "source": [
    "btn = driver.find_element_by_css_selector(\"#sit > div.goods_extit_menu > ul > li:nth-child(2)\")"
   ]
  },
  {
   "cell_type": "code",
   "execution_count": 101,
   "id": "7d55738c",
   "metadata": {},
   "outputs": [],
   "source": [
    "btn.click()"
   ]
  },
  {
   "cell_type": "code",
   "execution_count": 103,
   "id": "ad426ec7",
   "metadata": {},
   "outputs": [
    {
     "data": {
      "text/plain": [
       "20"
      ]
     },
     "execution_count": 103,
     "metadata": {},
     "output_type": "execute_result"
    }
   ],
   "source": [
    "len(df_explain)"
   ]
  },
  {
   "cell_type": "code",
   "execution_count": 111,
   "id": "8fff4df2",
   "metadata": {},
   "outputs": [
    {
     "data": {
      "text/html": [
       "<div>\n",
       "<style scoped>\n",
       "    .dataframe tbody tr th:only-of-type {\n",
       "        vertical-align: middle;\n",
       "    }\n",
       "\n",
       "    .dataframe tbody tr th {\n",
       "        vertical-align: top;\n",
       "    }\n",
       "\n",
       "    .dataframe thead th {\n",
       "        text-align: right;\n",
       "    }\n",
       "</style>\n",
       "<table border=\"1\" class=\"dataframe\">\n",
       "  <thead>\n",
       "    <tr style=\"text-align: right;\">\n",
       "      <th></th>\n",
       "      <th>술이름</th>\n",
       "      <th>도수</th>\n",
       "      <th>이미지경로</th>\n",
       "      <th>설명</th>\n",
       "    </tr>\n",
       "    <tr>\n",
       "      <th>번호</th>\n",
       "      <th></th>\n",
       "      <th></th>\n",
       "      <th></th>\n",
       "      <th></th>\n",
       "    </tr>\n",
       "  </thead>\n",
       "  <tbody>\n",
       "    <tr>\n",
       "      <th>1</th>\n",
       "      <td>아우터 스페이스 크롬 보드카 + 잔 2 개 세트 VAT별도 (OUTER SPACE ...</td>\n",
       "      <td>40%</td>\n",
       "      <td>http://www.kajawine.kr/data/item/1592641569/th...</td>\n",
       "      <td></td>\n",
       "    </tr>\n",
       "    <tr>\n",
       "      <th>2</th>\n",
       "      <td>네미로프 델리캇700ml+디켄더세트 (nemiroff delikat)</td>\n",
       "      <td>40%</td>\n",
       "      <td>http://www.kajawine.kr/data/item/1500007337/th...</td>\n",
       "      <td>우크라이나 넘버원 보드카 \"네미로프\" 보드카 선물용 쇼케이스 700ml(델리캇) 과...</td>\n",
       "    </tr>\n",
       "    <tr>\n",
       "      <th>3</th>\n",
       "      <td>러시안 아이스 보드카 500ml (RUSSIAN ICE VODKA/RUSSKY LY...</td>\n",
       "      <td>40%</td>\n",
       "      <td>http://www.kajawine.kr/data/item/1580106257/th...</td>\n",
       "      <td></td>\n",
       "    </tr>\n",
       "    <tr>\n",
       "      <th>4</th>\n",
       "      <td>아르키 보드카 (ARKHI VODKA)</td>\n",
       "      <td>보드카</td>\n",
       "      <td>http://www.kajawine.kr/data/item/1613533621/th...</td>\n",
       "      <td></td>\n",
       "    </tr>\n",
       "    <tr>\n",
       "      <th>5</th>\n",
       "      <td>바톤 보드카 750ml (BARTON VODKA)</td>\n",
       "      <td>40%</td>\n",
       "      <td>http://www.kajawine.kr/data/item/1449238223/th...</td>\n",
       "      <td></td>\n",
       "    </tr>\n",
       "    <tr>\n",
       "      <th>...</th>\n",
       "      <td>...</td>\n",
       "      <td>...</td>\n",
       "      <td>...</td>\n",
       "      <td>...</td>\n",
       "    </tr>\n",
       "    <tr>\n",
       "      <th>145</th>\n",
       "      <td>앱솔루트 바닐라(VAT 별도) ()</td>\n",
       "      <td>24% DC</td>\n",
       "      <td>http://www.kajawine.kr/data/item/1294050704/th...</td>\n",
       "      <td>앱솔루트 바닐라는 버터스카치와 다크 초콜렛의 복합적이고 감칠 맛이 나는 제품으로 오...</td>\n",
       "    </tr>\n",
       "    <tr>\n",
       "      <th>146</th>\n",
       "      <td>앱솔루트 만다린(오렌지향) ()</td>\n",
       "      <td>24% DC</td>\n",
       "      <td>http://www.kajawine.kr/data/item/1294049685/th...</td>\n",
       "      <td>감귤과 오렌지의 향취, 그리고 살짝 달콤한 끝맛</td>\n",
       "    </tr>\n",
       "    <tr>\n",
       "      <th>147</th>\n",
       "      <td>스미노프 레드(VAT 별도) (Smirnoff Red Vodka)</td>\n",
       "      <td>37.5%</td>\n",
       "      <td>http://www.kajawine.kr/data/item/1070683005/th...</td>\n",
       "      <td></td>\n",
       "    </tr>\n",
       "    <tr>\n",
       "      <th>148</th>\n",
       "      <td>스톨리치나야 오렌지향 (Stolichnaya Ohranj)</td>\n",
       "      <td>37.5%</td>\n",
       "      <td>http://www.kajawine.kr/data/item/1065990484/th...</td>\n",
       "      <td>스톨리치나야 오렌지는 오렌지향의 에센셜 오일과 식물성 리큐르, 마멀레이드가 어우러져...</td>\n",
       "    </tr>\n",
       "    <tr>\n",
       "      <th>149</th>\n",
       "      <td>스톨리치나야 갈라애플향 (Stolichnaya Gala Applik)</td>\n",
       "      <td>37.5%</td>\n",
       "      <td>http://www.kajawine.kr/data/item/1065894937/th...</td>\n",
       "      <td>스톨리치나야 갈라애플은 빨간 사과의 상큼한 향과 싱그럽고 신선한 시트러스의 향이 어...</td>\n",
       "    </tr>\n",
       "  </tbody>\n",
       "</table>\n",
       "<p>149 rows × 4 columns</p>\n",
       "</div>"
      ],
      "text/plain": [
       "                                                   술이름      도수  \\\n",
       "번호                                                               \n",
       "1    아우터 스페이스 크롬 보드카 + 잔 2 개 세트 VAT별도 (OUTER SPACE ...     40%   \n",
       "2               네미로프 델리캇700ml+디켄더세트 (nemiroff delikat)     40%   \n",
       "3    러시안 아이스 보드카 500ml (RUSSIAN ICE VODKA/RUSSKY LY...     40%   \n",
       "4                                아르키 보드카 (ARKHI VODKA)     보드카   \n",
       "5                          바톤 보드카 750ml (BARTON VODKA)     40%   \n",
       "..                                                 ...     ...   \n",
       "145                                앱솔루트 바닐라(VAT 별도) ()  24% DC   \n",
       "146                                  앱솔루트 만다린(오렌지향) ()  24% DC   \n",
       "147               스미노프 레드(VAT 별도) (Smirnoff Red Vodka)   37.5%   \n",
       "148                   스톨리치나야 오렌지향 (Stolichnaya Ohranj)   37.5%   \n",
       "149             스톨리치나야 갈라애플향 (Stolichnaya Gala Applik)   37.5%   \n",
       "\n",
       "                                                 이미지경로  \\\n",
       "번호                                                       \n",
       "1    http://www.kajawine.kr/data/item/1592641569/th...   \n",
       "2    http://www.kajawine.kr/data/item/1500007337/th...   \n",
       "3    http://www.kajawine.kr/data/item/1580106257/th...   \n",
       "4    http://www.kajawine.kr/data/item/1613533621/th...   \n",
       "5    http://www.kajawine.kr/data/item/1449238223/th...   \n",
       "..                                                 ...   \n",
       "145  http://www.kajawine.kr/data/item/1294050704/th...   \n",
       "146  http://www.kajawine.kr/data/item/1294049685/th...   \n",
       "147  http://www.kajawine.kr/data/item/1070683005/th...   \n",
       "148  http://www.kajawine.kr/data/item/1065990484/th...   \n",
       "149  http://www.kajawine.kr/data/item/1065894937/th...   \n",
       "\n",
       "                                                    설명  \n",
       "번호                                                      \n",
       "1                                                       \n",
       "2    우크라이나 넘버원 보드카 \"네미로프\" 보드카 선물용 쇼케이스 700ml(델리캇) 과...  \n",
       "3                                                       \n",
       "4                                                       \n",
       "5                                                       \n",
       "..                                                 ...  \n",
       "145  앱솔루트 바닐라는 버터스카치와 다크 초콜렛의 복합적이고 감칠 맛이 나는 제품으로 오...  \n",
       "146                         감귤과 오렌지의 향취, 그리고 살짝 달콤한 끝맛  \n",
       "147                                                     \n",
       "148  스톨리치나야 오렌지는 오렌지향의 에센셜 오일과 식물성 리큐르, 마멀레이드가 어우러져...  \n",
       "149  스톨리치나야 갈라애플은 빨간 사과의 상큼한 향과 싱그럽고 신선한 시트러스의 향이 어...  \n",
       "\n",
       "[149 rows x 4 columns]"
      ]
     },
     "execution_count": 111,
     "metadata": {},
     "output_type": "execute_result"
    }
   ],
   "source": [
    "df_number = []\n",
    "for i in range(len(df_title)) :\n",
    "    df_number.append(i+1)\n",
    "vod = {'술이름':df_title , '도수':df_abv , '이미지경로': df_img, '번호' : df_number, '설명' : df_explain}\n",
    "df = pd.DataFrame(vod)\n",
    "df.set_index('번호' , inplace = True)\n",
    "df"
   ]
  },
  {
   "cell_type": "code",
   "execution_count": 112,
   "id": "2d645fd3",
   "metadata": {},
   "outputs": [
    {
     "ename": "UnicodeEncodeError",
     "evalue": "'euc_kr' codec can't encode character '\\u2013' in position 63: illegal multibyte sequence",
     "output_type": "error",
     "traceback": [
      "\u001b[1;31m---------------------------------------------------------------------------\u001b[0m",
      "\u001b[1;31mUnicodeEncodeError\u001b[0m                        Traceback (most recent call last)",
      "\u001b[1;32m~\\AppData\\Local\\Temp/ipykernel_13416/2170697841.py\u001b[0m in \u001b[0;36m<module>\u001b[1;34m\u001b[0m\n\u001b[1;32m----> 1\u001b[1;33m \u001b[0mdf\u001b[0m\u001b[1;33m.\u001b[0m\u001b[0mto_csv\u001b[0m\u001b[1;33m(\u001b[0m\u001b[1;34m\"가나_보드카.csv\"\u001b[0m \u001b[1;33m,\u001b[0m \u001b[0mencoding\u001b[0m \u001b[1;33m=\u001b[0m \u001b[1;34m\"euc-kr\"\u001b[0m\u001b[1;33m)\u001b[0m\u001b[1;33m\u001b[0m\u001b[1;33m\u001b[0m\u001b[0m\n\u001b[0m",
      "\u001b[1;32m~\\anaconda3\\lib\\site-packages\\pandas\\core\\generic.py\u001b[0m in \u001b[0;36mto_csv\u001b[1;34m(self, path_or_buf, sep, na_rep, float_format, columns, header, index, index_label, mode, encoding, compression, quoting, quotechar, line_terminator, chunksize, date_format, doublequote, escapechar, decimal, errors, storage_options)\u001b[0m\n\u001b[0;32m   3464\u001b[0m         )\n\u001b[0;32m   3465\u001b[0m \u001b[1;33m\u001b[0m\u001b[0m\n\u001b[1;32m-> 3466\u001b[1;33m         return DataFrameRenderer(formatter).to_csv(\n\u001b[0m\u001b[0;32m   3467\u001b[0m             \u001b[0mpath_or_buf\u001b[0m\u001b[1;33m,\u001b[0m\u001b[1;33m\u001b[0m\u001b[1;33m\u001b[0m\u001b[0m\n\u001b[0;32m   3468\u001b[0m             \u001b[0mline_terminator\u001b[0m\u001b[1;33m=\u001b[0m\u001b[0mline_terminator\u001b[0m\u001b[1;33m,\u001b[0m\u001b[1;33m\u001b[0m\u001b[1;33m\u001b[0m\u001b[0m\n",
      "\u001b[1;32m~\\anaconda3\\lib\\site-packages\\pandas\\io\\formats\\format.py\u001b[0m in \u001b[0;36mto_csv\u001b[1;34m(self, path_or_buf, encoding, sep, columns, index_label, mode, compression, quoting, quotechar, line_terminator, chunksize, date_format, doublequote, escapechar, errors, storage_options)\u001b[0m\n\u001b[0;32m   1103\u001b[0m             \u001b[0mformatter\u001b[0m\u001b[1;33m=\u001b[0m\u001b[0mself\u001b[0m\u001b[1;33m.\u001b[0m\u001b[0mfmt\u001b[0m\u001b[1;33m,\u001b[0m\u001b[1;33m\u001b[0m\u001b[1;33m\u001b[0m\u001b[0m\n\u001b[0;32m   1104\u001b[0m         )\n\u001b[1;32m-> 1105\u001b[1;33m         \u001b[0mcsv_formatter\u001b[0m\u001b[1;33m.\u001b[0m\u001b[0msave\u001b[0m\u001b[1;33m(\u001b[0m\u001b[1;33m)\u001b[0m\u001b[1;33m\u001b[0m\u001b[1;33m\u001b[0m\u001b[0m\n\u001b[0m\u001b[0;32m   1106\u001b[0m \u001b[1;33m\u001b[0m\u001b[0m\n\u001b[0;32m   1107\u001b[0m         \u001b[1;32mif\u001b[0m \u001b[0mcreated_buffer\u001b[0m\u001b[1;33m:\u001b[0m\u001b[1;33m\u001b[0m\u001b[1;33m\u001b[0m\u001b[0m\n",
      "\u001b[1;32m~\\anaconda3\\lib\\site-packages\\pandas\\io\\formats\\csvs.py\u001b[0m in \u001b[0;36msave\u001b[1;34m(self)\u001b[0m\n\u001b[0;32m    255\u001b[0m             )\n\u001b[0;32m    256\u001b[0m \u001b[1;33m\u001b[0m\u001b[0m\n\u001b[1;32m--> 257\u001b[1;33m             \u001b[0mself\u001b[0m\u001b[1;33m.\u001b[0m\u001b[0m_save\u001b[0m\u001b[1;33m(\u001b[0m\u001b[1;33m)\u001b[0m\u001b[1;33m\u001b[0m\u001b[1;33m\u001b[0m\u001b[0m\n\u001b[0m\u001b[0;32m    258\u001b[0m \u001b[1;33m\u001b[0m\u001b[0m\n\u001b[0;32m    259\u001b[0m     \u001b[1;32mdef\u001b[0m \u001b[0m_save\u001b[0m\u001b[1;33m(\u001b[0m\u001b[0mself\u001b[0m\u001b[1;33m)\u001b[0m \u001b[1;33m->\u001b[0m \u001b[1;32mNone\u001b[0m\u001b[1;33m:\u001b[0m\u001b[1;33m\u001b[0m\u001b[1;33m\u001b[0m\u001b[0m\n",
      "\u001b[1;32m~\\anaconda3\\lib\\site-packages\\pandas\\io\\formats\\csvs.py\u001b[0m in \u001b[0;36m_save\u001b[1;34m(self)\u001b[0m\n\u001b[0;32m    260\u001b[0m         \u001b[1;32mif\u001b[0m \u001b[0mself\u001b[0m\u001b[1;33m.\u001b[0m\u001b[0m_need_to_save_header\u001b[0m\u001b[1;33m:\u001b[0m\u001b[1;33m\u001b[0m\u001b[1;33m\u001b[0m\u001b[0m\n\u001b[0;32m    261\u001b[0m             \u001b[0mself\u001b[0m\u001b[1;33m.\u001b[0m\u001b[0m_save_header\u001b[0m\u001b[1;33m(\u001b[0m\u001b[1;33m)\u001b[0m\u001b[1;33m\u001b[0m\u001b[1;33m\u001b[0m\u001b[0m\n\u001b[1;32m--> 262\u001b[1;33m         \u001b[0mself\u001b[0m\u001b[1;33m.\u001b[0m\u001b[0m_save_body\u001b[0m\u001b[1;33m(\u001b[0m\u001b[1;33m)\u001b[0m\u001b[1;33m\u001b[0m\u001b[1;33m\u001b[0m\u001b[0m\n\u001b[0m\u001b[0;32m    263\u001b[0m \u001b[1;33m\u001b[0m\u001b[0m\n\u001b[0;32m    264\u001b[0m     \u001b[1;32mdef\u001b[0m \u001b[0m_save_header\u001b[0m\u001b[1;33m(\u001b[0m\u001b[0mself\u001b[0m\u001b[1;33m)\u001b[0m \u001b[1;33m->\u001b[0m \u001b[1;32mNone\u001b[0m\u001b[1;33m:\u001b[0m\u001b[1;33m\u001b[0m\u001b[1;33m\u001b[0m\u001b[0m\n",
      "\u001b[1;32m~\\anaconda3\\lib\\site-packages\\pandas\\io\\formats\\csvs.py\u001b[0m in \u001b[0;36m_save_body\u001b[1;34m(self)\u001b[0m\n\u001b[0;32m    298\u001b[0m             \u001b[1;32mif\u001b[0m \u001b[0mstart_i\u001b[0m \u001b[1;33m>=\u001b[0m \u001b[0mend_i\u001b[0m\u001b[1;33m:\u001b[0m\u001b[1;33m\u001b[0m\u001b[1;33m\u001b[0m\u001b[0m\n\u001b[0;32m    299\u001b[0m                 \u001b[1;32mbreak\u001b[0m\u001b[1;33m\u001b[0m\u001b[1;33m\u001b[0m\u001b[0m\n\u001b[1;32m--> 300\u001b[1;33m             \u001b[0mself\u001b[0m\u001b[1;33m.\u001b[0m\u001b[0m_save_chunk\u001b[0m\u001b[1;33m(\u001b[0m\u001b[0mstart_i\u001b[0m\u001b[1;33m,\u001b[0m \u001b[0mend_i\u001b[0m\u001b[1;33m)\u001b[0m\u001b[1;33m\u001b[0m\u001b[1;33m\u001b[0m\u001b[0m\n\u001b[0m\u001b[0;32m    301\u001b[0m \u001b[1;33m\u001b[0m\u001b[0m\n\u001b[0;32m    302\u001b[0m     \u001b[1;32mdef\u001b[0m \u001b[0m_save_chunk\u001b[0m\u001b[1;33m(\u001b[0m\u001b[0mself\u001b[0m\u001b[1;33m,\u001b[0m \u001b[0mstart_i\u001b[0m\u001b[1;33m:\u001b[0m \u001b[0mint\u001b[0m\u001b[1;33m,\u001b[0m \u001b[0mend_i\u001b[0m\u001b[1;33m:\u001b[0m \u001b[0mint\u001b[0m\u001b[1;33m)\u001b[0m \u001b[1;33m->\u001b[0m \u001b[1;32mNone\u001b[0m\u001b[1;33m:\u001b[0m\u001b[1;33m\u001b[0m\u001b[1;33m\u001b[0m\u001b[0m\n",
      "\u001b[1;32m~\\anaconda3\\lib\\site-packages\\pandas\\io\\formats\\csvs.py\u001b[0m in \u001b[0;36m_save_chunk\u001b[1;34m(self, start_i, end_i)\u001b[0m\n\u001b[0;32m    309\u001b[0m \u001b[1;33m\u001b[0m\u001b[0m\n\u001b[0;32m    310\u001b[0m         \u001b[0mix\u001b[0m \u001b[1;33m=\u001b[0m \u001b[0mself\u001b[0m\u001b[1;33m.\u001b[0m\u001b[0mdata_index\u001b[0m\u001b[1;33m[\u001b[0m\u001b[0mslicer\u001b[0m\u001b[1;33m]\u001b[0m\u001b[1;33m.\u001b[0m\u001b[0m_format_native_types\u001b[0m\u001b[1;33m(\u001b[0m\u001b[1;33m**\u001b[0m\u001b[0mself\u001b[0m\u001b[1;33m.\u001b[0m\u001b[0m_number_format\u001b[0m\u001b[1;33m)\u001b[0m\u001b[1;33m\u001b[0m\u001b[1;33m\u001b[0m\u001b[0m\n\u001b[1;32m--> 311\u001b[1;33m         libwriters.write_csv_rows(\n\u001b[0m\u001b[0;32m    312\u001b[0m             \u001b[0mdata\u001b[0m\u001b[1;33m,\u001b[0m\u001b[1;33m\u001b[0m\u001b[1;33m\u001b[0m\u001b[0m\n\u001b[0;32m    313\u001b[0m             \u001b[0mix\u001b[0m\u001b[1;33m,\u001b[0m\u001b[1;33m\u001b[0m\u001b[1;33m\u001b[0m\u001b[0m\n",
      "\u001b[1;32m~\\anaconda3\\lib\\site-packages\\pandas\\_libs\\writers.pyx\u001b[0m in \u001b[0;36mpandas._libs.writers.write_csv_rows\u001b[1;34m()\u001b[0m\n",
      "\u001b[1;31mUnicodeEncodeError\u001b[0m: 'euc_kr' codec can't encode character '\\u2013' in position 63: illegal multibyte sequence"
     ]
    }
   ],
   "source": [
    "df.to_csv(\"가나_보드카.csv\" , encoding = \"euc-kr\")"
   ]
  }
 ],
 "metadata": {
  "kernelspec": {
   "display_name": "Python 3 (ipykernel)",
   "language": "python",
   "name": "python3"
  },
  "language_info": {
   "codemirror_mode": {
    "name": "ipython",
    "version": 3
   },
   "file_extension": ".py",
   "mimetype": "text/x-python",
   "name": "python",
   "nbconvert_exporter": "python",
   "pygments_lexer": "ipython3",
   "version": "3.9.7"
  }
 },
 "nbformat": 4,
 "nbformat_minor": 5
}
